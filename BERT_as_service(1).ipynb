{
 "cells": [
  {
   "cell_type": "code",
   "execution_count": 1,
   "metadata": {
    "ExecuteTime": {
     "end_time": "2019-01-28T10:24:57.778072Z",
     "start_time": "2019-01-28T10:24:57.736538Z"
    }
   },
   "outputs": [],
   "source": [
    "import numpy as np\n",
    "from sklearn import preprocessing\n",
    "from sklearn.metrics import f1_score"
   ]
  },
  {
   "cell_type": "code",
   "execution_count": null,
   "metadata": {
    "ExecuteTime": {
     "start_time": "2019-01-28T12:59:13.951Z"
    }
   },
   "outputs": [],
   "source": [
    "import pandas as pd\n",
    "from bert_serving.client import BertClient\n",
    "bc = BertClient()"
   ]
  },
  {
   "cell_type": "code",
   "execution_count": 4,
   "metadata": {
    "ExecuteTime": {
     "end_time": "2019-01-28T12:09:21.425873Z",
     "start_time": "2019-01-28T12:09:21.366715Z"
    }
   },
   "outputs": [],
   "source": [
    "data = pd.read_csv(\"task2Dataset.csv\", sep='\\t', header=None, encoding=\"utf-8\")"
   ]
  },
  {
   "cell_type": "code",
   "execution_count": 37,
   "metadata": {
    "ExecuteTime": {
     "end_time": "2019-01-28T09:13:23.021021Z",
     "start_time": "2019-01-28T09:13:23.015332Z"
    }
   },
   "outputs": [
    {
     "data": {
      "text/plain": [
       "14263"
      ]
     },
     "execution_count": 37,
     "metadata": {},
     "output_type": "execute_result"
    }
   ],
   "source": [
    "data =data[data[3] != ' ']\n",
    "data =data[data[3] != '\\ufeff ']"
   ]
  },
  {
   "cell_type": "code",
   "execution_count": 4,
   "metadata": {
    "ExecuteTime": {
     "end_time": "2019-01-28T08:40:41.511785Z",
     "start_time": "2019-01-28T08:40:41.482525Z"
    }
   },
   "outputs": [
    {
     "data": {
      "text/html": [
       "<div>\n",
       "<style scoped>\n",
       "    .dataframe tbody tr th:only-of-type {\n",
       "        vertical-align: middle;\n",
       "    }\n",
       "\n",
       "    .dataframe tbody tr th {\n",
       "        vertical-align: top;\n",
       "    }\n",
       "\n",
       "    .dataframe thead th {\n",
       "        text-align: right;\n",
       "    }\n",
       "</style>\n",
       "<table border=\"1\" class=\"dataframe\">\n",
       "  <thead>\n",
       "    <tr style=\"text-align: right;\">\n",
       "      <th></th>\n",
       "      <th>0</th>\n",
       "      <th>1</th>\n",
       "      <th>2</th>\n",
       "      <th>3</th>\n",
       "    </tr>\n",
       "  </thead>\n",
       "  <tbody>\n",
       "    <tr>\n",
       "      <th>0</th>\n",
       "      <td>111111112</td>\n",
       "      <td>1</td>\n",
       "      <td>non-propaganda</td>\n",
       "      <td>US  bloggers  banned  from  entering  UK</td>\n",
       "    </tr>\n",
       "    <tr>\n",
       "      <th>2</th>\n",
       "      <td>111111112</td>\n",
       "      <td>3</td>\n",
       "      <td>non-propaganda</td>\n",
       "      <td>Two  prominent  US  bloggers  have  been  bann...</td>\n",
       "    </tr>\n",
       "    <tr>\n",
       "      <th>4</th>\n",
       "      <td>111111112</td>\n",
       "      <td>5</td>\n",
       "      <td>propaganda</td>\n",
       "      <td>Pamela  Geller  and  Robert  Spencer  co-found...</td>\n",
       "    </tr>\n",
       "    <tr>\n",
       "      <th>6</th>\n",
       "      <td>111111112</td>\n",
       "      <td>7</td>\n",
       "      <td>non-propaganda</td>\n",
       "      <td>They  were  due  to  speak  at  an  English  D...</td>\n",
       "    </tr>\n",
       "    <tr>\n",
       "      <th>8</th>\n",
       "      <td>111111112</td>\n",
       "      <td>9</td>\n",
       "      <td>non-propaganda</td>\n",
       "      <td>A  government  spokesman  said  individuals  w...</td>\n",
       "    </tr>\n",
       "  </tbody>\n",
       "</table>\n",
       "</div>"
      ],
      "text/plain": [
       "           0  1               2  \\\n",
       "0  111111112  1  non-propaganda   \n",
       "2  111111112  3  non-propaganda   \n",
       "4  111111112  5      propaganda   \n",
       "6  111111112  7  non-propaganda   \n",
       "8  111111112  9  non-propaganda   \n",
       "\n",
       "                                                   3  \n",
       "0          US  bloggers  banned  from  entering  UK   \n",
       "2  Two  prominent  US  bloggers  have  been  bann...  \n",
       "4  Pamela  Geller  and  Robert  Spencer  co-found...  \n",
       "6  They  were  due  to  speak  at  an  English  D...  \n",
       "8  A  government  spokesman  said  individuals  w...  "
      ]
     },
     "execution_count": 4,
     "metadata": {},
     "output_type": "execute_result"
    }
   ],
   "source": [
    "data.head()"
   ]
  },
  {
   "cell_type": "code",
   "execution_count": 5,
   "metadata": {
    "ExecuteTime": {
     "end_time": "2019-01-27T11:16:24.074801Z",
     "start_time": "2019-01-27T11:16:24.068356Z"
    }
   },
   "outputs": [],
   "source": [
    "labels = list(data[2])"
   ]
  },
  {
   "cell_type": "code",
   "execution_count": 7,
   "metadata": {
    "ExecuteTime": {
     "end_time": "2019-01-27T11:16:24.696900Z",
     "start_time": "2019-01-27T11:16:24.684053Z"
    }
   },
   "outputs": [],
   "source": [
    "lb = preprocessing.LabelBinarizer()\n",
    "label = lb.fit_transform(labels)"
   ]
  },
  {
   "cell_type": "code",
   "execution_count": 31,
   "metadata": {
    "ExecuteTime": {
     "end_time": "2019-01-28T09:12:56.301225Z",
     "start_time": "2019-01-28T09:12:56.298675Z"
    }
   },
   "outputs": [],
   "source": [
    "sentences = list(data[3])"
   ]
  },
  {
   "cell_type": "code",
   "execution_count": 9,
   "metadata": {
    "ExecuteTime": {
     "end_time": "2019-01-27T12:02:52.465083Z",
     "start_time": "2019-01-27T11:16:24.921345Z"
    }
   },
   "outputs": [],
   "source": [
    "a = bc.encode(sentences)"
   ]
  },
  {
   "cell_type": "code",
   "execution_count": null,
   "metadata": {
    "ExecuteTime": {
     "end_time": "2019-01-27T10:44:12.546137Z",
     "start_time": "2019-01-27T10:41:37.945Z"
    }
   },
   "outputs": [],
   "source": [
    "label = label.squeeze()\n"
   ]
  },
  {
   "cell_type": "code",
   "execution_count": null,
   "metadata": {
    "ExecuteTime": {
     "end_time": "2019-01-27T10:44:12.547122Z",
     "start_time": "2019-01-27T10:41:39.345Z"
    }
   },
   "outputs": [],
   "source": [
    "from sklearn.model_selection import train_test_split"
   ]
  },
  {
   "cell_type": "code",
   "execution_count": null,
   "metadata": {
    "ExecuteTime": {
     "end_time": "2019-01-27T10:44:12.548192Z",
     "start_time": "2019-01-27T10:41:39.825Z"
    }
   },
   "outputs": [],
   "source": [
    "train_text, test_text, train_label, test_label = train_test_split(a, label, random_state=2018, test_size=0.1)"
   ]
  },
  {
   "cell_type": "code",
   "execution_count": null,
   "metadata": {
    "ExecuteTime": {
     "end_time": "2019-01-27T10:44:12.549303Z",
     "start_time": "2019-01-27T10:41:43.714Z"
    }
   },
   "outputs": [],
   "source": [
    "from sklearn.naive_bayes import GaussianNB\n",
    "gnb = GaussianNB()\n",
    "y_pred_nb = gnb.fit(train_text, train_label).predict(b)\n",
    "#print(\"Number of mislabeled points out of a total %d points : %d\" % (train_text.shape[0],(train_label != y_pred).sum()))"
   ]
  },
  {
   "cell_type": "code",
   "execution_count": null,
   "metadata": {
    "ExecuteTime": {
     "end_time": "2019-01-27T10:44:12.550271Z",
     "start_time": "2019-01-27T10:41:45.889Z"
    }
   },
   "outputs": [],
   "source": [
    "f1_score(test_label, y_pred_nb)"
   ]
  },
  {
   "cell_type": "code",
   "execution_count": null,
   "metadata": {},
   "outputs": [],
   "source": [
    "clf = neighbors.KNeighborsClassifier(n_neighbors, weights=weights)\n",
    "clf.fit(train_text, train_label)\n",
    "Z = clf.predict(test_text)"
   ]
  },
  {
   "cell_type": "code",
   "execution_count": null,
   "metadata": {},
   "outputs": [],
   "source": [
    "f1_score(test_label, Z)"
   ]
  },
  {
   "cell_type": "code",
   "execution_count": 16,
   "metadata": {
    "ExecuteTime": {
     "end_time": "2019-01-27T10:16:29.770349Z",
     "start_time": "2019-01-27T10:16:29.237912Z"
    }
   },
   "outputs": [
    {
     "name": "stderr",
     "output_type": "stream",
     "text": [
      "Using TensorFlow backend.\n"
     ]
    }
   ],
   "source": [
    "from keras.models import Sequential\n",
    "from keras.layers import Dense"
   ]
  },
  {
   "cell_type": "code",
   "execution_count": 17,
   "metadata": {
    "ExecuteTime": {
     "end_time": "2019-01-27T10:16:32.212069Z",
     "start_time": "2019-01-27T10:16:32.208014Z"
    }
   },
   "outputs": [],
   "source": [
    "from keras import backend as K\n",
    "\n",
    "def f1(y_true, y_pred):\n",
    "    def recall(y_true, y_pred):\n",
    "        \"\"\"Recall metric.\n",
    "\n",
    "        Only computes a batch-wise average of recall.\n",
    "\n",
    "        Computes the recall, a metric for multi-label classification of\n",
    "        how many relevant items are selected.\n",
    "        \"\"\"\n",
    "        true_positives = K.sum(K.round(K.clip(y_true * y_pred, 0, 1)))\n",
    "        possible_positives = K.sum(K.round(K.clip(y_true, 0, 1)))\n",
    "        recall = true_positives / (possible_positives + K.epsilon())\n",
    "        return recall\n",
    "\n",
    "    def precision(y_true, y_pred):\n",
    "        \"\"\"Precision metric.\n",
    "\n",
    "        Only computes a batch-wise average of precision.\n",
    "\n",
    "        Computes the precision, a metric for multi-label classification of\n",
    "        how many selected items are relevant.\n",
    "        \"\"\"\n",
    "        true_positives = K.sum(K.round(K.clip(y_true * y_pred, 0, 1)))\n",
    "        predicted_positives = K.sum(K.round(K.clip(y_pred, 0, 1)))\n",
    "        precision = true_positives / (predicted_positives + K.epsilon())\n",
    "        return precision\n",
    "    precision = precision(y_true, y_pred)\n",
    "    recall = recall(y_true, y_pred)\n",
    "    return 2*((precision*recall)/(precision+recall+K.epsilon()))"
   ]
  },
  {
   "cell_type": "code",
   "execution_count": 64,
   "metadata": {
    "ExecuteTime": {
     "end_time": "2019-01-27T10:30:00.640423Z",
     "start_time": "2019-01-27T10:30:00.585082Z"
    }
   },
   "outputs": [],
   "source": [
    "# create model\n",
    "model = Sequential()\n",
    "model.add(Dense(256, input_dim=768, activation='relu'))\n",
    "model.add(Dense(1, activation='sigmoid'))\n",
    "  \n",
    "model.compile(loss='binary_crossentropy', optimizer='adam', metrics=['accuracy', f1])"
   ]
  },
  {
   "cell_type": "code",
   "execution_count": 18,
   "metadata": {
    "ExecuteTime": {
     "end_time": "2019-01-27T08:30:42.302140Z",
     "start_time": "2019-01-27T08:29:51.385017Z"
    }
   },
   "outputs": [
    {
     "name": "stdout",
     "output_type": "stream",
     "text": [
      "WARNING:tensorflow:From /home/hearth/miniconda3/envs/dl0/lib/python3.6/site-packages/tensorflow/python/ops/math_ops.py:3067: to_int32 (from tensorflow.python.ops.math_ops) is deprecated and will be removed in a future version.\n",
      "Instructions for updating:\n",
      "Use tf.cast instead.\n",
      "Train on 9984 samples, validate on 4279 samples\n",
      "Epoch 1/50\n",
      "9984/9984 [==============================] - 2s 217us/step - loss: 0.5920 - acc: 0.7244 - f1: 6.4103e-04 - val_loss: 0.5896 - val_acc: 0.7231 - val_f1: 0.0000e+00\n",
      "Epoch 2/50\n",
      "9984/9984 [==============================] - 1s 99us/step - loss: 0.5887 - acc: 0.7243 - f1: 0.0000e+00 - val_loss: 0.5913 - val_acc: 0.7231 - val_f1: 0.0000e+00\n",
      "Epoch 3/50\n",
      "9984/9984 [==============================] - 1s 99us/step - loss: 0.5854 - acc: 0.7243 - f1: 0.0000e+00 - val_loss: 0.5823 - val_acc: 0.7231 - val_f1: 0.0000e+00\n",
      "Epoch 4/50\n",
      "9984/9984 [==============================] - 1s 99us/step - loss: 0.5803 - acc: 0.7243 - f1: 0.0000e+00 - val_loss: 0.5725 - val_acc: 0.7231 - val_f1: 0.0000e+00\n",
      "Epoch 5/50\n",
      "9984/9984 [==============================] - 1s 99us/step - loss: 0.5774 - acc: 0.7243 - f1: 0.0000e+00 - val_loss: 0.5719 - val_acc: 0.7231 - val_f1: 0.0000e+00\n",
      "Epoch 6/50\n",
      "9984/9984 [==============================] - 1s 98us/step - loss: 0.5763 - acc: 0.7243 - f1: 0.0000e+00 - val_loss: 0.5661 - val_acc: 0.7231 - val_f1: 0.0000e+00\n",
      "Epoch 7/50\n",
      "9984/9984 [==============================] - 1s 99us/step - loss: 0.5731 - acc: 0.7243 - f1: 0.0000e+00 - val_loss: 0.5660 - val_acc: 0.7231 - val_f1: 0.0000e+00\n",
      "Epoch 8/50\n",
      "9984/9984 [==============================] - 1s 99us/step - loss: 0.5731 - acc: 0.7243 - f1: 0.0000e+00 - val_loss: 0.5738 - val_acc: 0.7231 - val_f1: 0.0000e+00\n",
      "Epoch 9/50\n",
      "9984/9984 [==============================] - 1s 99us/step - loss: 0.5692 - acc: 0.7243 - f1: 0.0000e+00 - val_loss: 0.5584 - val_acc: 0.7231 - val_f1: 0.0000e+00\n",
      "Epoch 10/50\n",
      "9984/9984 [==============================] - 1s 99us/step - loss: 0.5688 - acc: 0.7243 - f1: 0.0000e+00 - val_loss: 0.5568 - val_acc: 0.7231 - val_f1: 0.0000e+00\n",
      "Epoch 11/50\n",
      "9984/9984 [==============================] - 1s 99us/step - loss: 0.5655 - acc: 0.7243 - f1: 0.0000e+00 - val_loss: 0.5620 - val_acc: 0.7231 - val_f1: 0.0000e+00\n",
      "Epoch 12/50\n",
      "9984/9984 [==============================] - 1s 99us/step - loss: 0.5616 - acc: 0.7243 - f1: 0.0000e+00 - val_loss: 0.5539 - val_acc: 0.7231 - val_f1: 0.0000e+00\n",
      "Epoch 13/50\n",
      "9984/9984 [==============================] - 1s 99us/step - loss: 0.5562 - acc: 0.7243 - f1: 0.0000e+00 - val_loss: 0.5483 - val_acc: 0.7231 - val_f1: 0.0000e+00\n",
      "Epoch 14/50\n",
      "9984/9984 [==============================] - 1s 99us/step - loss: 0.5573 - acc: 0.7243 - f1: 0.0000e+00 - val_loss: 0.5541 - val_acc: 0.7231 - val_f1: 0.0000e+00\n",
      "Epoch 15/50\n",
      "9984/9984 [==============================] - 1s 99us/step - loss: 0.5536 - acc: 0.7243 - f1: 0.0000e+00 - val_loss: 0.5430 - val_acc: 0.7231 - val_f1: 0.0000e+00\n",
      "Epoch 16/50\n",
      "9984/9984 [==============================] - 1s 99us/step - loss: 0.5509 - acc: 0.7246 - f1: 0.0242 - val_loss: 0.5372 - val_acc: 0.7231 - val_f1: 0.0000e+00\n",
      "Epoch 17/50\n",
      "9984/9984 [==============================] - 1s 99us/step - loss: 0.5490 - acc: 0.7254 - f1: 0.0461 - val_loss: 0.5400 - val_acc: 0.7273 - val_f1: 0.2631\n",
      "Epoch 18/50\n",
      "9984/9984 [==============================] - 1s 99us/step - loss: 0.5502 - acc: 0.7260 - f1: 0.1018 - val_loss: 0.5398 - val_acc: 0.7231 - val_f1: 0.0000e+00\n",
      "Epoch 19/50\n",
      "9984/9984 [==============================] - 1s 99us/step - loss: 0.5460 - acc: 0.7274 - f1: 0.1007 - val_loss: 0.5384 - val_acc: 0.7301 - val_f1: 0.2483\n",
      "Epoch 20/50\n",
      "9984/9984 [==============================] - 1s 99us/step - loss: 0.5411 - acc: 0.7333 - f1: 0.1729 - val_loss: 0.5304 - val_acc: 0.7341 - val_f1: 0.1290\n",
      "Epoch 21/50\n",
      "9984/9984 [==============================] - 1s 99us/step - loss: 0.5379 - acc: 0.7308 - f1: 0.1960 - val_loss: 0.5286 - val_acc: 0.7322 - val_f1: 0.3122\n",
      "Epoch 22/50\n",
      "9984/9984 [==============================] - 1s 99us/step - loss: 0.5429 - acc: 0.7323 - f1: 0.1931 - val_loss: 0.5275 - val_acc: 0.7352 - val_f1: 0.1732\n",
      "Epoch 23/50\n",
      "9984/9984 [==============================] - 1s 99us/step - loss: 0.5377 - acc: 0.7352 - f1: 0.2199 - val_loss: 0.5304 - val_acc: 0.7341 - val_f1: 0.0902\n",
      "Epoch 24/50\n",
      "9984/9984 [==============================] - 1s 99us/step - loss: 0.5376 - acc: 0.7321 - f1: 0.1968 - val_loss: 0.5295 - val_acc: 0.7343 - val_f1: 0.1093\n",
      "Epoch 25/50\n",
      "9984/9984 [==============================] - 1s 99us/step - loss: 0.5318 - acc: 0.7371 - f1: 0.2313 - val_loss: 0.5309 - val_acc: 0.7401 - val_f1: 0.2214\n",
      "Epoch 26/50\n",
      "9984/9984 [==============================] - 1s 99us/step - loss: 0.5286 - acc: 0.7415 - f1: 0.2541 - val_loss: 0.5277 - val_acc: 0.7345 - val_f1: 0.0969\n",
      "Epoch 27/50\n",
      "9984/9984 [==============================] - 1s 99us/step - loss: 0.5291 - acc: 0.7419 - f1: 0.2703 - val_loss: 0.5277 - val_acc: 0.7378 - val_f1: 0.1288\n",
      "Epoch 28/50\n",
      "9984/9984 [==============================] - 1s 99us/step - loss: 0.5249 - acc: 0.7427 - f1: 0.2814 - val_loss: 0.5275 - val_acc: 0.7427 - val_f1: 0.3906\n",
      "Epoch 29/50\n",
      "9984/9984 [==============================] - 1s 99us/step - loss: 0.5259 - acc: 0.7425 - f1: 0.2842 - val_loss: 0.5281 - val_acc: 0.7446 - val_f1: 0.4020\n",
      "Epoch 30/50\n",
      "9984/9984 [==============================] - 1s 99us/step - loss: 0.5239 - acc: 0.7445 - f1: 0.2841 - val_loss: 0.5221 - val_acc: 0.7418 - val_f1: 0.2018\n",
      "Epoch 31/50\n",
      "9984/9984 [==============================] - 1s 99us/step - loss: 0.5202 - acc: 0.7459 - f1: 0.3261 - val_loss: 0.5198 - val_acc: 0.7476 - val_f1: 0.3777\n",
      "Epoch 32/50\n",
      "9984/9984 [==============================] - 1s 99us/step - loss: 0.5211 - acc: 0.7448 - f1: 0.3025 - val_loss: 0.5259 - val_acc: 0.7420 - val_f1: 0.2080\n",
      "Epoch 33/50\n",
      "9984/9984 [==============================] - 1s 99us/step - loss: 0.5173 - acc: 0.7474 - f1: 0.3247 - val_loss: 0.5143 - val_acc: 0.7478 - val_f1: 0.3282\n",
      "Epoch 34/50\n",
      "9984/9984 [==============================] - 1s 99us/step - loss: 0.5207 - acc: 0.7436 - f1: 0.3124 - val_loss: 0.5155 - val_acc: 0.7492 - val_f1: 0.3155\n",
      "Epoch 35/50\n",
      "9984/9984 [==============================] - 1s 99us/step - loss: 0.5194 - acc: 0.7476 - f1: 0.3277 - val_loss: 0.5149 - val_acc: 0.7478 - val_f1: 0.2761\n",
      "Epoch 36/50\n",
      "9984/9984 [==============================] - 1s 99us/step - loss: 0.5147 - acc: 0.7501 - f1: 0.3326 - val_loss: 0.5156 - val_acc: 0.7506 - val_f1: 0.3450\n",
      "Epoch 37/50\n",
      "9984/9984 [==============================] - 1s 99us/step - loss: 0.5154 - acc: 0.7532 - f1: 0.3505 - val_loss: 0.5140 - val_acc: 0.7511 - val_f1: 0.2844\n",
      "Epoch 38/50\n",
      "9984/9984 [==============================] - 1s 99us/step - loss: 0.5116 - acc: 0.7540 - f1: 0.3528 - val_loss: 0.5120 - val_acc: 0.7481 - val_f1: 0.3460\n",
      "Epoch 39/50\n",
      "9984/9984 [==============================] - 1s 99us/step - loss: 0.5131 - acc: 0.7515 - f1: 0.3468 - val_loss: 0.5260 - val_acc: 0.7499 - val_f1: 0.2701\n",
      "Epoch 40/50\n",
      "9984/9984 [==============================] - 1s 99us/step - loss: 0.5097 - acc: 0.7510 - f1: 0.3619 - val_loss: 0.5179 - val_acc: 0.7525 - val_f1: 0.4200\n",
      "Epoch 41/50\n",
      "9984/9984 [==============================] - 1s 99us/step - loss: 0.5123 - acc: 0.7502 - f1: 0.3469 - val_loss: 0.5138 - val_acc: 0.7544 - val_f1: 0.3099\n",
      "Epoch 42/50\n",
      "9984/9984 [==============================] - 1s 99us/step - loss: 0.5114 - acc: 0.7518 - f1: 0.3420 - val_loss: 0.5146 - val_acc: 0.7520 - val_f1: 0.4316\n",
      "Epoch 43/50\n",
      "9984/9984 [==============================] - 1s 99us/step - loss: 0.5114 - acc: 0.7508 - f1: 0.3605 - val_loss: 0.5191 - val_acc: 0.7532 - val_f1: 0.4348\n",
      "Epoch 44/50\n",
      "9984/9984 [==============================] - 1s 99us/step - loss: 0.5083 - acc: 0.7512 - f1: 0.3596 - val_loss: 0.5150 - val_acc: 0.7541 - val_f1: 0.2970\n",
      "Epoch 45/50\n",
      "9984/9984 [==============================] - 1s 99us/step - loss: 0.5074 - acc: 0.7555 - f1: 0.3665 - val_loss: 0.5330 - val_acc: 0.7411 - val_f1: 0.4792\n",
      "Epoch 46/50\n",
      "9984/9984 [==============================] - 1s 99us/step - loss: 0.5068 - acc: 0.7524 - f1: 0.3636 - val_loss: 0.5139 - val_acc: 0.7518 - val_f1: 0.2904\n",
      "Epoch 47/50\n",
      "9984/9984 [==============================] - 1s 99us/step - loss: 0.5058 - acc: 0.7562 - f1: 0.3764 - val_loss: 0.5274 - val_acc: 0.7497 - val_f1: 0.2508\n"
     ]
    },
    {
     "name": "stdout",
     "output_type": "stream",
     "text": [
      "Epoch 48/50\n",
      "9984/9984 [==============================] - 1s 99us/step - loss: 0.5031 - acc: 0.7557 - f1: 0.3831 - val_loss: 0.5108 - val_acc: 0.7560 - val_f1: 0.3256\n",
      "Epoch 49/50\n",
      "9984/9984 [==============================] - 1s 99us/step - loss: 0.5060 - acc: 0.7533 - f1: 0.3742 - val_loss: 0.5122 - val_acc: 0.7527 - val_f1: 0.2905\n",
      "Epoch 50/50\n",
      "9984/9984 [==============================] - 1s 98us/step - loss: 0.5036 - acc: 0.7555 - f1: 0.3829 - val_loss: 0.5274 - val_acc: 0.7483 - val_f1: 0.2192\n"
     ]
    },
    {
     "data": {
      "text/plain": [
       "<keras.callbacks.History at 0x7f134fa97550>"
      ]
     },
     "execution_count": 18,
     "metadata": {},
     "output_type": "execute_result"
    }
   ],
   "source": [
    "model.fit(train_text, \n",
    "          train_label,\n",
    "          validation_data=(test_text, test_label),\n",
    "          epochs=50,\n",
    "          batch_size=32)\n",
    "#score = model.evaluate(x_test, y_test, batch_size=16)"
   ]
  },
  {
   "cell_type": "code",
   "execution_count": 31,
   "metadata": {
    "ExecuteTime": {
     "end_time": "2019-01-27T10:24:02.719647Z",
     "start_time": "2019-01-27T10:24:02.717044Z"
    }
   },
   "outputs": [],
   "source": [
    "models = [model, model1, model2, model3]"
   ]
  },
  {
   "cell_type": "code",
   "execution_count": 43,
   "metadata": {
    "ExecuteTime": {
     "end_time": "2019-01-27T10:26:39.919331Z",
     "start_time": "2019-01-27T10:26:39.794457Z"
    }
   },
   "outputs": [],
   "source": [
    "def ensemble(models):\n",
    "    \n",
    "    outputs = [model.predict(b, 32) for model in models]\n",
    "    \n",
    "    \n",
    "    \n",
    "    return outputs\n",
    "\n",
    "ensemble_model = ensemble(models)"
   ]
  },
  {
   "cell_type": "code",
   "execution_count": 51,
   "metadata": {
    "ExecuteTime": {
     "end_time": "2019-01-27T10:27:57.305134Z",
     "start_time": "2019-01-27T10:27:57.300514Z"
    }
   },
   "outputs": [],
   "source": [
    "predictions1 = (ensemble_model[0]+ensemble_model[1]+ensemble_model[2]+ensemble_model[3]+y_pred_nb.reshape(2034, 1))/5"
   ]
  },
  {
   "cell_type": "code",
   "execution_count": 32,
   "metadata": {
    "ExecuteTime": {
     "end_time": "2019-01-27T08:48:49.955759Z",
     "start_time": "2019-01-27T08:48:49.882951Z"
    }
   },
   "outputs": [],
   "source": [
    "predictions1 = model1.predict(b, 32)"
   ]
  },
  {
   "cell_type": "code",
   "execution_count": 54,
   "metadata": {
    "ExecuteTime": {
     "end_time": "2019-01-27T10:28:04.166106Z",
     "start_time": "2019-01-27T10:28:04.160665Z"
    }
   },
   "outputs": [],
   "source": [
    "predictions1 = np.round(predictions1, 0)"
   ]
  },
  {
   "cell_type": "code",
   "execution_count": 14,
   "metadata": {
    "ExecuteTime": {
     "end_time": "2019-01-27T14:37:40.646743Z",
     "start_time": "2019-01-27T14:24:40.806118Z"
    }
   },
   "outputs": [],
   "source": [
    "b = bc.encode(list(data1[3]))"
   ]
  },
  {
   "cell_type": "code",
   "execution_count": 55,
   "metadata": {
    "ExecuteTime": {
     "end_time": "2019-01-27T10:28:10.150477Z",
     "start_time": "2019-01-27T10:28:10.099318Z"
    }
   },
   "outputs": [
    {
     "name": "stderr",
     "output_type": "stream",
     "text": [
      "/home/hearth/miniconda3/envs/dl0/lib/python3.6/site-packages/ipykernel_launcher.py:1: SettingWithCopyWarning: \n",
      "A value is trying to be set on a copy of a slice from a DataFrame.\n",
      "Try using .loc[row_indexer,col_indexer] = value instead\n",
      "\n",
      "See the caveats in the documentation: http://pandas.pydata.org/pandas-docs/stable/indexing.html#indexing-view-versus-copy\n",
      "  \"\"\"Entry point for launching an IPython kernel.\n"
     ]
    }
   ],
   "source": [
    "data1[2] = predictions1"
   ]
  },
  {
   "cell_type": "code",
   "execution_count": 10,
   "metadata": {
    "ExecuteTime": {
     "end_time": "2019-01-27T14:23:26.174121Z",
     "start_time": "2019-01-27T14:23:26.153661Z"
    }
   },
   "outputs": [],
   "source": [
    "data = pd.read_csv(\"task2DatasetTest.csv\", sep='\\t', header=None, encoding=\"utf-8\")"
   ]
  },
  {
   "cell_type": "code",
   "execution_count": 13,
   "metadata": {
    "ExecuteTime": {
     "end_time": "2019-01-27T14:23:48.007327Z",
     "start_time": "2019-01-27T14:23:47.998285Z"
    }
   },
   "outputs": [],
   "source": [
    "data1  = data[data[3] != ' ']"
   ]
  },
  {
   "cell_type": "code",
   "execution_count": 56,
   "metadata": {
    "ExecuteTime": {
     "end_time": "2019-01-27T10:28:14.579905Z",
     "start_time": "2019-01-27T10:28:14.566627Z"
    }
   },
   "outputs": [],
   "source": [
    "merged = pd.merge(data, data1, how='outer', on=[0, 1])"
   ]
  },
  {
   "cell_type": "code",
   "execution_count": 58,
   "metadata": {
    "ExecuteTime": {
     "end_time": "2019-01-27T10:28:19.934037Z",
     "start_time": "2019-01-27T10:28:19.929547Z"
    }
   },
   "outputs": [],
   "source": [
    "merged.loc[merged['3_x'] == ' ', '2_y'] = 'non-propaganda'"
   ]
  },
  {
   "cell_type": "code",
   "execution_count": 59,
   "metadata": {
    "ExecuteTime": {
     "end_time": "2019-01-27T10:28:20.062984Z",
     "start_time": "2019-01-27T10:28:20.046054Z"
    }
   },
   "outputs": [],
   "source": [
    "merged.loc[merged['2_y'] == 0, '2_y'] = 'non-propaganda'"
   ]
  },
  {
   "cell_type": "code",
   "execution_count": 60,
   "metadata": {
    "ExecuteTime": {
     "end_time": "2019-01-27T10:28:20.285580Z",
     "start_time": "2019-01-27T10:28:20.270944Z"
    }
   },
   "outputs": [],
   "source": [
    "merged.loc[merged['2_y'] == 1, '2_y'] = 'propaganda'"
   ]
  },
  {
   "cell_type": "code",
   "execution_count": 63,
   "metadata": {
    "ExecuteTime": {
     "end_time": "2019-01-27T10:28:34.482527Z",
     "start_time": "2019-01-27T10:28:34.469389Z"
    }
   },
   "outputs": [],
   "source": [
    "merged.to_csv('submission_ensemble5.csv', sep='\\t', header=False, index=False)"
   ]
  },
  {
   "cell_type": "code",
   "execution_count": 61,
   "metadata": {
    "ExecuteTime": {
     "end_time": "2019-01-27T10:28:21.477930Z",
     "start_time": "2019-01-27T10:28:21.470454Z"
    }
   },
   "outputs": [],
   "source": [
    "merged = merged.drop('2_x', axis=1)\n",
    "merged = merged.drop('3_x', axis=1)\n",
    "merged = merged.drop('3_y', axis=1)\n"
   ]
  },
  {
   "cell_type": "code",
   "execution_count": null,
   "metadata": {},
   "outputs": [],
   "source": []
  }
 ],
 "metadata": {
  "kernelspec": {
   "display_name": "Python 3",
   "language": "python",
   "name": "python3"
  },
  "language_info": {
   "codemirror_mode": {
    "name": "ipython",
    "version": 3
   },
   "file_extension": ".py",
   "mimetype": "text/x-python",
   "name": "python",
   "nbconvert_exporter": "python",
   "pygments_lexer": "ipython3",
   "version": "3.7.1"
  },
  "varInspector": {
   "cols": {
    "lenName": 16,
    "lenType": 16,
    "lenVar": 40
   },
   "kernels_config": {
    "python": {
     "delete_cmd_postfix": "",
     "delete_cmd_prefix": "del ",
     "library": "var_list.py",
     "varRefreshCmd": "print(var_dic_list())"
    },
    "r": {
     "delete_cmd_postfix": ") ",
     "delete_cmd_prefix": "rm(",
     "library": "var_list.r",
     "varRefreshCmd": "cat(var_dic_list()) "
    }
   },
   "types_to_exclude": [
    "module",
    "function",
    "builtin_function_or_method",
    "instance",
    "_Feature"
   ],
   "window_display": false
  }
 },
 "nbformat": 4,
 "nbformat_minor": 2
}
